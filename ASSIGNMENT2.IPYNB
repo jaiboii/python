{
 "cells": [
  {
   "cell_type": "markdown",
   "metadata": {},
   "source": [
    "1.WAP to check whether a given value is positive or negative or neutral. if positive, display the positive with value.or negative display the negative with value or else display the neutral with value.\n"
   ]
  },
  {
   "cell_type": "code",
   "execution_count": 4,
   "metadata": {},
   "outputs": [
    {
     "name": "stdout",
     "output_type": "stream",
     "text": [
      "positive 69\n"
     ]
    }
   ],
   "source": [
    "n = int(input())\n",
    "if n>0:\n",
    "    print(\"positive\",n)\n",
    "elif n < 0:\n",
    "    print(\"negative\",n) \n",
    "else:\n",
    "    print(\"neutral\",n)       "
   ]
  },
  {
   "cell_type": "markdown",
   "metadata": {},
   "source": [
    "2.WAP to find out the greatest of three numbers, and display the greatest number.\n"
   ]
  },
  {
   "cell_type": "code",
   "execution_count": 5,
   "metadata": {},
   "outputs": [
    {
     "name": "stdout",
     "output_type": "stream",
     "text": [
      "12\n"
     ]
    }
   ],
   "source": [
    "a=int(input())\n",
    "b=int(input())\n",
    "c=int(input())\n",
    "if a > b and a>c:\n",
    "    print(a)\n",
    "elif b >a and b >c:\n",
    "    print(b)\n",
    "else:\n",
    "    print(c)\n",
    "\n",
    "\n"
   ]
  },
  {
   "cell_type": "markdown",
   "metadata": {},
   "source": [
    "3.Write a program to check whether a given number is divisible by 3 and 5. if the number divisible by 3 print fizz, if the number divisible by 5 print ‘bizz’ if it is divisible by both then print fizzbuzz\n"
   ]
  },
  {
   "cell_type": "code",
   "execution_count": 9,
   "metadata": {},
   "outputs": [
    {
     "name": "stdout",
     "output_type": "stream",
     "text": [
      "FIZZBUZZ\n"
     ]
    }
   ],
   "source": [
    "n = int(input())\n",
    "if n % 3==0 and n % 5 ==0:\n",
    "    print(\"FIZZBUZZ\")\n",
    "elif n % 3 == 0:\n",
    "    print(\"FIZZ\")\n",
    "else:\n",
    "    print(\"BUZZ\")    \n"
   ]
  },
  {
   "cell_type": "markdown",
   "metadata": {},
   "source": [
    "4.WAP to find out the relationship between two values and display the relationship.\n"
   ]
  },
  {
   "cell_type": "code",
   "execution_count": 10,
   "metadata": {},
   "outputs": [
    {
     "name": "stdout",
     "output_type": "stream",
     "text": [
      "a is equal to b\n"
     ]
    }
   ],
   "source": [
    "a = int(input())\n",
    "b = int(input())\n",
    "if a>b:\n",
    "    print(\" a is greter than b\")\n",
    "elif a == b:\n",
    "    print(\"a is equal to b\")\n",
    "else:\n",
    "    print(\"a is less than b\")\n"
   ]
  },
  {
   "cell_type": "markdown",
   "metadata": {},
   "source": [
    "5.Write a program to check if a given number is one digit or two digit or three digit for more than 3 digit, if one digit displays the one digit value, if two digit displays the two digit value and so on..\n"
   ]
  },
  {
   "cell_type": "code",
   "execution_count": 24,
   "metadata": {},
   "outputs": [
    {
     "name": "stdout",
     "output_type": "stream",
     "text": [
      "The number 100 is three digits.\n"
     ]
    }
   ],
   "source": [
    "num =  int(input())\n",
    "if num < 0:\n",
    "        print(\"Invalid input: Negative number.\")\n",
    "elif num < 10:\n",
    "        print( \"The number {num} is one digit.\")\n",
    "elif num < 100:\n",
    "        print( f\"The number {num} is two digits.\")\n",
    "elif num < 1000:\n",
    "        print( f\"The number {num} is three digits.\")\n",
    "else:\n",
    "        print(\"The number {num} has more than three digits.\")"
   ]
  },
  {
   "cell_type": "markdown",
   "metadata": {},
   "source": [
    "6.WAP to check whether a given character is an alphabet or ascii number or special character or invalid. if alphabet, display the alphabet with character.or elif ascii number display the ascii number with character,or else display the special character with character.\n"
   ]
  },
  {
   "cell_type": "code",
   "execution_count": 34,
   "metadata": {},
   "outputs": [
    {
     "name": "stdout",
     "output_type": "stream",
     "text": [
      " {char} is an alphabet.\n"
     ]
    }
   ],
   "source": [
    "char= (input())\n",
    "if char.isalpha():\n",
    "        print(\" {char} is an alphabet.\")\n",
    "elif char.isdigit():\n",
    "        print(\" it is an ASCII number with value.\",char)\n",
    "elif ord(char) >= 32 and ord(char) <= 126:\n",
    "        print(\"{char} is a special character.\")\n",
    "else:\n",
    "        print( \"Invalid character.\")\n"
   ]
  },
  {
   "cell_type": "markdown",
   "metadata": {},
   "source": [
    "7.Write a program to accept any number from 1-5 and display that number in word form.\n"
   ]
  },
  {
   "cell_type": "code",
   "execution_count": 35,
   "metadata": {},
   "outputs": [
    {
     "name": "stdout",
     "output_type": "stream",
     "text": [
      "four\n"
     ]
    }
   ],
   "source": [
    "n = int(input())\n",
    "if n ==1:\n",
    "    print(\"one\")\n",
    "elif n ==2:\n",
    "    print(\"twoo\")\n",
    "elif n ==3:\n",
    "\n",
    "    print(\"threee\")\n",
    "elif n ==4:\n",
    "\n",
    "    print(\"four\")\n",
    "else:       \n",
    "    print(\"none\")\n",
    "\n",
    "\n"
   ]
  },
  {
   "cell_type": "markdown",
   "metadata": {},
   "source": [
    "8.WAP to check whether the given input character is uppercase, lowercase, number or a special symbol. To display the message.\n"
   ]
  },
  {
   "cell_type": "code",
   "execution_count": 44,
   "metadata": {},
   "outputs": [
    {
     "name": "stdout",
     "output_type": "stream",
     "text": [
      "special symbol\n"
     ]
    }
   ],
   "source": [
    "ch = input()\n",
    "if ch.isupper():\n",
    "    print(\"uppercase\")\n",
    "elif ch.islower():\n",
    "    print(\"lowercase\")\n",
    "elif ch.isdigit():\n",
    "    print(\"number\")\n",
    "else:\n",
    "    print(\"special symbol\")            "
   ]
  },
  {
   "cell_type": "markdown",
   "metadata": {},
   "source": [
    "9.WAP to check whether a given character is uppercase or lowercase or special character. if uppercase, convert to lower case.or elif lowercase, convert to uppercase or else display the previous,given,next characters and display it.\n"
   ]
  },
  {
   "cell_type": "code",
   "execution_count": 9,
   "metadata": {},
   "outputs": [
    {
     "name": "stdout",
     "output_type": "stream",
     "text": [
      "i j k\n"
     ]
    }
   ],
   "source": [
    "ch = input()\n",
    "if ch.isupper():\n",
    "    print(ch.lower())\n",
    "elif ch.islower():\n",
    "    print(chr(ord(ch)-1),ch,chr(ord(ch)+1))  \n",
    "elif not(ch.isupper() or ch.islower() or ch.isdigit()):\n",
    "    print(\"special character\")      "
   ]
  },
  {
   "cell_type": "markdown",
   "metadata": {},
   "source": [
    "10.WAP to check whether the given character is in lowercase or uppercase, numeric or special characters. Display the what type of case.\n"
   ]
  },
  {
   "cell_type": "code",
   "execution_count": 10,
   "metadata": {},
   "outputs": [
    {
     "name": "stdout",
     "output_type": "stream",
     "text": [
      "digits\n"
     ]
    }
   ],
   "source": [
    "ch = input()\n",
    "if ch.islower():\n",
    "    print(\"lowercase\")\n",
    "elif ch.isupper():\n",
    "    print(\"uppercase\")\n",
    "elif ch.isdigit():\n",
    "    print(\"digits\") \n",
    "else:\n",
    "    print(\"special characters\")   \n",
    "    \n",
    "            "
   ]
  },
  {
   "cell_type": "markdown",
   "metadata": {},
   "source": [
    "11.WAP to check whether a given percentage is which grade and display grade.\n",
    "note.(first grade, second grade, third grade, fail)\n"
   ]
  },
  {
   "cell_type": "code",
   "execution_count": 11,
   "metadata": {},
   "outputs": [
    {
     "name": "stdout",
     "output_type": "stream",
     "text": [
      "first grade\n"
     ]
    }
   ],
   "source": [
    "grade = int(input())\n",
    "if grade >75 :\n",
    "    print(\"first grade\")\n",
    "elif grade >60:\n",
    "    print(\"second grade\")\n",
    "elif grade >40:\n",
    "    print(\"third grade\")\n",
    "else:\n",
    "    print(\"fail\")            "
   ]
  },
  {
   "cell_type": "markdown",
   "metadata": {},
   "source": [
    "12.WAP to perform arithmetic operations depends on a user choice. \n"
   ]
  },
  {
   "cell_type": "code",
   "execution_count": 14,
   "metadata": {},
   "outputs": [
    {
     "name": "stdout",
     "output_type": "stream",
     "text": [
      "20\n"
     ]
    }
   ],
   "source": [
    "choice = int(input())\n",
    "a = int(input())\n",
    "b = int(input())\n",
    "if choice == 1:\n",
    "    print(a + b)\n",
    "elif choice == 2:\n",
    "    print(a - b)\n",
    "elif choice == 3:\n",
    "    print(a * b)\n",
    "elif choice == 4:\n",
    "    print(a / b)\n",
    "elif choice == 5:\n",
    "    print(a // b)\n",
    "elif choice == 6:\n",
    "    print(a ** b)"
   ]
  },
  {
   "cell_type": "markdown",
   "metadata": {},
   "source": [
    "13.WAP to check a given number is one digit or two digit or three digits for more than 3 digits.\n"
   ]
  },
  {
   "cell_type": "code",
   "execution_count": 1,
   "metadata": {},
   "outputs": [
    {
     "name": "stdout",
     "output_type": "stream",
     "text": [
      "The number {num} is two digits.\n"
     ]
    }
   ],
   "source": [
    "num =  int(input())\n",
    "\n",
    "if num < 10:\n",
    "        print( \"The number {num} is one digit.\")\n",
    "elif num < 100:\n",
    "        print( \"The number {num} is two digits.\")\n",
    "elif num < 1000:\n",
    "        print(\"The number {num} is three digits.\")\n",
    "else:\n",
    "        print(\"The number {num} has more than three digits no.\")"
   ]
  },
  {
   "cell_type": "markdown",
   "metadata": {},
   "source": [
    "14.WAP to check whether a given collection is a list or tuple or set or character string.\n",
    "if list, append the new value in middle of the list,\n",
    "if tuple, append the new value in starting of the tuple\n",
    "if set, append the new value in set, or else append a new key as given character and values as an ascii value with character.\n"
   ]
  },
  {
   "cell_type": "code",
   "execution_count": 1,
   "metadata": {},
   "outputs": [
    {
     "name": "stdout",
     "output_type": "stream",
     "text": [
      "string\n"
     ]
    }
   ],
   "source": [
    "collection = input()\n",
    "nv= input()\n",
    "if type(collection) == list:\n",
    "    mi=len(collection)//2\n",
    "    collection.insert(mi,nv) \n",
    "elif type(collection) == tuple:\n",
    "    collection = nv + collection\n",
    "elif type(collection) == set :\n",
    "    collection = collection.add(nv)\n",
    "else :\n",
    "    print(\"string\")    \n",
    "\n",
    "\n",
    "\n"
   ]
  },
  {
   "cell_type": "markdown",
   "metadata": {},
   "source": [
    "15.WAP to check whether a given value is a int or float or string or other, if int, given value division by 5 and display the quotient, if float, perform the bitwise or operation with 15, if string, extract for last position value and store it in first positions of the string, else store the value in the list and display the result.\n"
   ]
  },
  {
   "cell_type": "code",
   "execution_count": 5,
   "metadata": {},
   "outputs": [
    {
     "name": "stdout",
     "output_type": "stream",
     "text": [
      "jjay\n"
     ]
    }
   ],
   "source": [
    "value = input(\"Enter a value: \")\n",
    "\n",
    "if value.isdigit():\n",
    "    value = int(value)\n",
    "    quotient = value // 5\n",
    "    print(quotient)\n",
    "elif '.' in value:\n",
    "    value = float(value)\n",
    "    result = value | 15\n",
    "    print( result)\n",
    "elif isinstance(value, str):\n",
    "    if len(value) > 0:\n",
    "        new_string = value[-1] + value[:-1]\n",
    "        print( new_string)\n",
    "    else:\n",
    "        print(\"String is empty.\")\n",
    "else:\n",
    "    my_list = []\n",
    "    my_list.append(value)\n",
    "    print(my_list)\n"
   ]
  },
  {
   "cell_type": "markdown",
   "metadata": {},
   "source": [
    "16.WAP to check whether the given character is uppercase or ascii number. \n",
    "If uppercase, to convert to lowercase and concat the next character of a given character or if ascii number, that convert to ascii value and ascii value is subtract by 6, finally value is converted to ascii character display it or else  print invalid input.\n",
    "\n"
   ]
  },
  {
   "cell_type": "code",
   "execution_count": 8,
   "metadata": {},
   "outputs": [
    {
     "name": "stdout",
     "output_type": "stream",
     "text": [
      "3\n"
     ]
    }
   ],
   "source": [
    "ch = input()\n",
    "if ch.isupper():\n",
    "        lowercase_char = ch.lower()\n",
    "        next_char = chr(ord(ch) + 1)\n",
    "        result = lowercase_char + next_char\n",
    "        print(result)\n",
    "elif ch.isdigit():\n",
    "        ascii_value = ord(ch)\n",
    "        ascii_value -= 6\n",
    "        result = chr(ascii_value)\n",
    "        print(result)\n",
    "else:\n",
    "        print(\"Invalid input.\")\n"
   ]
  },
  {
   "cell_type": "markdown",
   "metadata": {},
   "source": [
    "NESTED IF:"
   ]
  },
  {
   "cell_type": "markdown",
   "metadata": {},
   "source": [
    "17.WAP  to check whether the given number is even or odd,\n",
    "if even, to check whether given value is divisible by 4 or not, if divisible, to display the square of the number,\n",
    "if number is odd, to check whether given number is divisible by 3 and 7 or not,\n",
    "If the condition is satisfied, display the area of the circle. \n"
   ]
  },
  {
   "cell_type": "code",
   "execution_count": 13,
   "metadata": {},
   "outputs": [
    {
     "name": "stdout",
     "output_type": "stream",
     "text": [
      "256\n"
     ]
    }
   ],
   "source": [
    "n = int(input())\n",
    "if n % 2 == 0:\n",
    "    if n % 4 ==0:\n",
    "        print(n**2)\n",
    "    \n",
    "else:\n",
    "    if n%3==0 and n%7==0:\n",
    "        print(24/7 * n *n )"
   ]
  },
  {
   "cell_type": "markdown",
   "metadata": {},
   "source": [
    "18. WAP to check whether the given input alphabet is present in a collection or not if it is present in the collection, check whether that alphabet is uppercase or lowercase if it is uppercase converted into lowercase and vice versa, if the alphabet not present in the collection prints invalid.\n"
   ]
  },
  {
   "cell_type": "code",
   "execution_count": null,
   "metadata": {},
   "outputs": [],
   "source": []
  }
 ],
 "metadata": {
  "kernelspec": {
   "display_name": "Python 3",
   "language": "python",
   "name": "python3"
  },
  "language_info": {
   "codemirror_mode": {
    "name": "ipython",
    "version": 3
   },
   "file_extension": ".py",
   "mimetype": "text/x-python",
   "name": "python",
   "nbconvert_exporter": "python",
   "pygments_lexer": "ipython3",
   "version": "3.12.1"
  }
 },
 "nbformat": 4,
 "nbformat_minor": 2
}
