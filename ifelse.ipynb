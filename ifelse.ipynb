{
 "cells": [
  {
   "cell_type": "code",
   "execution_count": 1,
   "metadata": {},
   "outputs": [
    {
     "name": "stdout",
     "output_type": "stream",
     "text": [
      "NOT GREATER\n"
     ]
    }
   ],
   "source": [
    "n = int(input(\"enter the number\"))\n",
    "if n > 10:\n",
    "    print(\"greater\")\n",
    "else:\n",
    "    print(\"NOT GREATER\")    "
   ]
  },
  {
   "cell_type": "code",
   "execution_count": 2,
   "metadata": {},
   "outputs": [
    {
     "name": "stdout",
     "output_type": "stream",
     "text": [
      "yesssss\n"
     ]
    }
   ],
   "source": [
    "n = int(input(\"enter the number \"))\n",
    "if n == 15:\n",
    "    print(\"yesssss\")\n",
    "else:\n",
    "    print(\"nooooo\")    \n",
    "\n"
   ]
  },
  {
   "cell_type": "code",
   "execution_count": 3,
   "metadata": {},
   "outputs": [
    {
     "name": "stdout",
     "output_type": "stream",
     "text": [
      " not divisible\n"
     ]
    }
   ],
   "source": [
    "n = int(input(\"enter the number \"))\n",
    "if n % 4 == 0 :\n",
    "    print(\"divisible\")\n",
    "\n",
    "else:\n",
    "    print(\" not divisible\")    "
   ]
  },
  {
   "cell_type": "code",
   "execution_count": 4,
   "metadata": {},
   "outputs": [
    {
     "name": "stdout",
     "output_type": "stream",
     "text": [
      "-8\n"
     ]
    }
   ],
   "source": [
    "n = int(input(\"enter the number\"))\n",
    "if( n>21 and n<35 and n%2 == 0):\n",
    "    print(n * 3)\n",
    "\n",
    "else:\n",
    "    print(n - 20)    "
   ]
  },
  {
   "cell_type": "markdown",
   "metadata": {},
   "source": []
  },
  {
   "cell_type": "code",
   "execution_count": 6,
   "metadata": {},
   "outputs": [
    {
     "name": "stdout",
     "output_type": "stream",
     "text": [
      "not alphabet\n"
     ]
    }
   ],
   "source": [
    "ch = input(\"enter the character \")\n",
    "if (ch >'a' and ch <='z') or (ch >='A' and ch <= 'Z'):\n",
    "    print(\"IT IS A ALPHABET\")\n",
    "\n",
    "\n",
    "else:\n",
    "    print(\"not alphabet\")    "
   ]
  },
  {
   "cell_type": "code",
   "execution_count": 9,
   "metadata": {},
   "outputs": [
    {
     "name": "stdout",
     "output_type": "stream",
     "text": [
      "not a digit\n"
     ]
    }
   ],
   "source": [
    "d = input(\"enter the digit \")\n",
    "if (d>= '0' and d <= \"9\") :\n",
    "    print(\"IT IS A digit\")\n",
    "\n",
    "\n",
    "else:\n",
    "    print(\"not a digit\")    "
   ]
  },
  {
   "cell_type": "code",
   "execution_count": null,
   "metadata": {},
   "outputs": [],
   "source": []
  },
  {
   "cell_type": "code",
   "execution_count": 10,
   "metadata": {},
   "outputs": [
    {
     "name": "stdout",
     "output_type": "stream",
     "text": [
      "IT is a SYMBOL\n"
     ]
    }
   ],
   "source": [
    "ch = input(\"enter the character \")\n",
    "if (ch >='a' and ch <='z') or (ch >='A' and ch <= 'Z') or (ch>= '0' and ch  <= \"9\") :\n",
    " \n",
    "    print(\"IT IS not a symbol\")\n",
    "else:\n",
    "    print(\"IT is a SYMBOL\")    "
   ]
  },
  {
   "cell_type": "code",
   "execution_count": 13,
   "metadata": {},
   "outputs": [
    {
     "name": "stdout",
     "output_type": "stream",
     "text": [
      "97\n"
     ]
    }
   ],
   "source": [
    "ch = input(\"enter the character \")\n",
    "if (ch >='a' and ch <='z') or (ch >='A' and ch <= 'Z'):\n",
    "    print(ord(ch))\n",
    "\n",
    "\n",
    "else:\n",
    "    print(ch)    "
   ]
  },
  {
   "cell_type": "code",
   "execution_count": 27,
   "metadata": {},
   "outputs": [
    {
     "name": "stdout",
     "output_type": "stream",
     "text": [
      "not divisible\n"
     ]
    }
   ],
   "source": [
    "N= int(input(\"enter the number \"))\n",
    "if N % 3== 0 and N%2 == 0:\n",
    "    print(\"divisible\")\n",
    "else:\n",
    "    print(\"not divisible\" )\n",
    "        "
   ]
  },
  {
   "cell_type": "code",
   "execution_count": 15,
   "metadata": {},
   "outputs": [
    {
     "name": "stdout",
     "output_type": "stream",
     "text": [
      "HAPPY DIWali\n"
     ]
    }
   ],
   "source": [
    "ch = input(\"enter the character \")\n",
    "if not((ch >='a' and ch <='z') or (ch >='A' and ch <= 'Z') or (ch>= '0' and ch  <= \"9\") or( ord(ch) > 70) ):\n",
    " \n",
    "    print(\"HAPPY DIWali\")\n",
    "else:\n",
    "    print(\" come on wednesday\")    "
   ]
  },
  {
   "cell_type": "code",
   "execution_count": 31,
   "metadata": {},
   "outputs": [
    {
     "name": "stdout",
     "output_type": "stream",
     "text": [
      "GOOD MORNING\n"
     ]
    }
   ],
   "source": [
    "ch = input()\n",
    "if ((ch >= 'a' and ch <= 'z') or (ch>='A' and ch<='Z' ) and ord(ch)%2==0 ):\n",
    "    print(\"GOOD MORNING\")\n",
    "else:\n",
    "    print(\"TATA GOOD BYE\")    "
   ]
  },
  {
   "cell_type": "code",
   "execution_count": null,
   "metadata": {},
   "outputs": [],
   "source": []
  },
  {
   "cell_type": "code",
   "execution_count": 35,
   "metadata": {},
   "outputs": [
    {
     "name": "stdout",
     "output_type": "stream",
     "text": [
      "19\n"
     ]
    }
   ],
   "source": [
    "n = int(input(\"enter the number\"))\n",
    "l = n%10\n",
    "if n > 5 and n <25 and l % 3 == 0:\n",
    "    print(n + 10)\n",
    "else:\n",
    "    print(n - 10)    "
   ]
  },
  {
   "cell_type": "code",
   "execution_count": 20,
   "metadata": {},
   "outputs": [
    {
     "name": "stdout",
     "output_type": "stream",
     "text": [
      "VOWELS\n"
     ]
    }
   ],
   "source": [
    "ch = input(\"enter the character \")\n",
    "str = 'aeiouAEIOU'\n",
    "if ch in str:\n",
    "    print(\"VOWELS\")\n",
    "\n",
    "else:\n",
    "    print(\"NOT vowels\")    \n"
   ]
  },
  {
   "cell_type": "code",
   "execution_count": 21,
   "metadata": {},
   "outputs": [
    {
     "name": "stdout",
     "output_type": "stream",
     "text": [
      "CONSONENTS\n"
     ]
    }
   ],
   "source": [
    "ch = input(\"enter the character \")\n",
    "str = 'aeiouAEIOU'\n",
    "if ch not in str:\n",
    "    print(\"CONSONENTS\")\n",
    "\n",
    "else:\n",
    "    print(\"NOT CONSONENTS\")    \n"
   ]
  },
  {
   "cell_type": "code",
   "execution_count": 24,
   "metadata": {},
   "outputs": [
    {
     "name": "stdout",
     "output_type": "stream",
     "text": [
      "it is even\n"
     ]
    }
   ],
   "source": [
    "n = int(input(\"enter the number \"))\n",
    "if n%2==0:\n",
    "    print(\"it is even\")\n",
    "else:\n",
    "    print(\"it is odd\")    "
   ]
  },
  {
   "cell_type": "code",
   "execution_count": 25,
   "metadata": {},
   "outputs": [
    {
     "name": "stdout",
     "output_type": "stream",
     "text": [
      "UPPERCASE\n"
     ]
    }
   ],
   "source": [
    "ch = input(\"enter the character \")\n",
    "if ch >= 'a' and ch <= 'z':\n",
    "    print(\"LOWERCASE\")\n",
    "\n",
    "else:\n",
    "    print(\"UPPERCASE\")    \n"
   ]
  },
  {
   "cell_type": "code",
   "execution_count": 26,
   "metadata": {},
   "outputs": [
    {
     "name": "stdout",
     "output_type": "stream",
     "text": [
      "DIGIT\n"
     ]
    }
   ],
   "source": [
    "ch = input(\"enter the character \")\n",
    "if ch >= '0' and ch <= '9':\n",
    "    print(\"DIGIT\")\n",
    "\n",
    "else:\n",
    "    print(\"NOT DIGIT\")    \n"
   ]
  }
 ],
 "metadata": {
  "kernelspec": {
   "display_name": "Python 3",
   "language": "python",
   "name": "python3"
  },
  "language_info": {
   "codemirror_mode": {
    "name": "ipython",
    "version": 3
   },
   "file_extension": ".py",
   "mimetype": "text/x-python",
   "name": "python",
   "nbconvert_exporter": "python",
   "pygments_lexer": "ipython3",
   "version": "3.12.1"
  }
 },
 "nbformat": 4,
 "nbformat_minor": 2
}
