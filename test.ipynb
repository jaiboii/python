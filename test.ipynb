{
 "cells": [
  {
   "cell_type": "code",
   "execution_count": 2,
   "metadata": {},
   "outputs": [
    {
     "name": "stdout",
     "output_type": "stream",
     "text": [
      "True\n"
     ]
    }
   ],
   "source": [
    "l1 = [ 1,2,\"jay\"]\n",
    "l2 = [1,2]\n",
    "print(l1>l2)"
   ]
  },
  {
   "cell_type": "code",
   "execution_count": 15,
   "metadata": {},
   "outputs": [
    {
     "name": "stdout",
     "output_type": "stream",
     "text": [
      "nooooooooo\n"
     ]
    }
   ],
   "source": [
    "s = input()\n",
    "if s[0] == s[-1]:\n",
    "    if ord(s[-2]) >= 90 and ord(s[-2]) <= 100:\n",
    "        print(\"yes\")\n",
    "    else:\n",
    "        print(\"nooooooooo\")    \n",
    "else:\n",
    "    print(\"get out\")        "
   ]
  },
  {
   "cell_type": "code",
   "execution_count": 22,
   "metadata": {},
   "outputs": [
    {
     "name": "stdout",
     "output_type": "stream",
     "text": [
      "greater\n"
     ]
    }
   ],
   "source": [
    "n = int(input())\n",
    "if n > 10:\n",
    "    print(\"greater\")\n",
    "else:\n",
    "    print(\"lesss\")    "
   ]
  },
  {
   "cell_type": "code",
   "execution_count": 25,
   "metadata": {},
   "outputs": [
    {
     "name": "stdout",
     "output_type": "stream",
     "text": [
      "3\n",
      "odd\n"
     ]
    }
   ],
   "source": [
    "s = input(\" enter the string \")\n",
    "l = len(s)\n",
    "print(l)\n",
    "m=str(l)\n",
    "k = ord(m)\n",
    "if k % 2 == 0:\n",
    "    print(\"even\")\n",
    "else:\n",
    "    print(\"odd\")    "
   ]
  },
  {
   "cell_type": "markdown",
   "metadata": {},
   "source": []
  },
  {
   "cell_type": "code",
   "execution_count": 1,
   "metadata": {},
   "outputs": [
    {
     "name": "stdout",
     "output_type": "stream",
     "text": [
      "106\n",
      "not done \n"
     ]
    }
   ],
   "source": [
    "s = input()\n",
    "a = ord(s[-1])\n",
    "print(a)\n",
    "if a >= 50 and a<= 75:\n",
    "    print(\" successfully executed\")\n",
    "\n",
    "else:\n",
    "    print(\"not done \")    \n"
   ]
  },
  {
   "cell_type": "code",
   "execution_count": 28,
   "metadata": {},
   "outputs": [],
   "source": [
    "s = input(\"enter the string \")\n",
    "m = len(s)//2\n",
    "d = ord(str(m))\n",
    "\n",
    "l = ord(str(len(s)))\n",
    "\n",
    "if  d == l:\n",
    "    print(\"same\")\n"
   ]
  },
  {
   "cell_type": "code",
   "execution_count": null,
   "metadata": {},
   "outputs": [],
   "source": []
  }
 ],
 "metadata": {
  "kernelspec": {
   "display_name": "Python 3",
   "language": "python",
   "name": "python3"
  },
  "language_info": {
   "codemirror_mode": {
    "name": "ipython",
    "version": 3
   },
   "file_extension": ".py",
   "mimetype": "text/x-python",
   "name": "python",
   "nbconvert_exporter": "python",
   "pygments_lexer": "ipython3",
   "version": "3.12.1"
  }
 },
 "nbformat": 4,
 "nbformat_minor": 2
}
