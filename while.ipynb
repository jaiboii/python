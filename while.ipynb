{
 "cells": [
  {
   "cell_type": "code",
   "execution_count": 1,
   "metadata": {},
   "outputs": [
    {
     "name": "stdout",
     "output_type": "stream",
     "text": [
      "1\n",
      "2\n",
      "3\n",
      "4\n",
      "5\n",
      "6\n",
      "7\n",
      "8\n",
      "9\n",
      "10\n"
     ]
    }
   ],
   "source": [
    "i = 1 \n",
    "while i <= 10: \n",
    "    print(i)\n",
    "    i += 1 "
   ]
  },
  {
   "cell_type": "markdown",
   "metadata": {},
   "source": [
    "Here are the steps for the given program:\n",
    "\n",
    "1. Initialize a variable `i` to 1.\n",
    "2. Enter a while loop with the condition `i <= 10`.\n",
    "3. Print the current value of `i`.\n",
    "4. Increment `i` by 1.\n",
    "5. Repeat steps 3-4 until `i` becomes greater than 10.\n",
    "6. Exit the loop and terminate the program."
   ]
  },
  {
   "cell_type": "code",
   "execution_count": 2,
   "metadata": {},
   "outputs": [
    {
     "name": "stdout",
     "output_type": "stream",
     "text": [
      "15\n",
      "14\n",
      "13\n",
      "12\n",
      "11\n",
      "10\n",
      "9\n",
      "8\n",
      "7\n",
      "6\n",
      "5\n",
      "4\n",
      "3\n",
      "2\n",
      "1\n"
     ]
    }
   ],
   "source": [
    "i = 15\n",
    "while i >= 1:\n",
    "    print(i)\n",
    "    i -= 1"
   ]
  },
  {
   "cell_type": "code",
   "execution_count": null,
   "metadata": {},
   "outputs": [],
   "source": [
    "Here are the steps for the given program:\n",
    "\n",
    "1. Set the variable `i` to 15.\n",
    "2. Enter a while loop with the condition `i >= 1`.\n",
    "3. Print the current value of `i`.\n",
    "4. Decrement `i` by 1.\n",
    "5. Repeat steps 3-4 until `i` becomes less than 1.\n",
    "6. Exit the loop and terminate the program."
   ]
  },
  {
   "cell_type": "code",
   "execution_count": 9,
   "metadata": {},
   "outputs": [
    {
     "name": "stdout",
     "output_type": "stream",
     "text": [
      "3\n",
      "6\n",
      "9\n",
      "12\n",
      "15\n",
      "18\n",
      "21\n",
      "24\n",
      "27\n",
      "30\n"
     ]
    }
   ],
   "source": [
    "i = 1 \n",
    "a = 3\n",
    "while i <= 10:\n",
    "    print  ( a * i)\n",
    "\n",
    "    i += 1"
   ]
  },
  {
   "cell_type": "code",
   "execution_count": 14,
   "metadata": {},
   "outputs": [
    {
     "name": "stdout",
     "output_type": "stream",
     "text": [
      "8\n",
      "10\n",
      "12\n",
      "14\n",
      "16\n",
      "18\n",
      "20\n",
      "22\n",
      "24\n"
     ]
    }
   ],
   "source": [
    "i = 7 \n",
    "while i<= 25:\n",
    "    if i % 2== 0:\n",
    "        print(i)\n",
    "    i += 1"
   ]
  },
  {
   "cell_type": "code",
   "execution_count": 24,
   "metadata": {},
   "outputs": [
    {
     "name": "stdout",
     "output_type": "stream",
     "text": [
      "15\n"
     ]
    }
   ],
   "source": [
    "a = 10\n",
    "while a <= 25:\n",
    "    if a % 3==0 and a % 5 == 0:\n",
    "        print(a)\n",
    "    a += 1   \n",
    "\n"
   ]
  },
  {
   "cell_type": "code",
   "execution_count": 25,
   "metadata": {},
   "outputs": [
    {
     "name": "stdout",
     "output_type": "stream",
     "text": [
      "2\n",
      "4\n",
      "6\n"
     ]
    }
   ],
   "source": [
    "a = 1\n",
    "j = 1\n",
    " \n",
    "while a <= 15:\n",
    "    if a % 2 ==0  and j <= 3 :\n",
    "        print(a)\n",
    "        j += 1\n",
    "    a += 1    "
   ]
  },
  {
   "cell_type": "code",
   "execution_count": 1,
   "metadata": {},
   "outputs": [
    {
     "name": "stdout",
     "output_type": "stream",
     "text": [
      "25\n",
      "23\n",
      "21\n",
      "19\n",
      "17\n"
     ]
    }
   ],
   "source": [
    "a = 25 \n",
    "j = 1\n",
    "while a >= 1:\n",
    "    if a % 2 == 1 and j <= 5:\n",
    "        print(a)\n",
    "        j +=  1\n",
    "    a -= 1    "
   ]
  },
  {
   "cell_type": "markdown",
   "metadata": {},
   "source": [
    "Here are the steps for the given program:\n",
    "\n",
    "1. Set the variable `a` to 25 and `j` to 1.\n",
    "2. Enter a while loop with the condition `a >= 1`.\n",
    "3. Check if `a` is odd (`a % 2 == 1`) and `j` is less than or equal to 5.\n",
    "4. If the condition is met, print the current value of `a`.\n",
    "5. Increment `j` by 1.\n",
    "6. Decrement `a` by 1.\n",
    "7. Repeat steps 3-6 until either `a` becomes less than 1 or `j` exceeds 5.\n",
    "8. Exit the loop and terminate the program."
   ]
  },
  {
   "cell_type": "code",
   "execution_count": 1,
   "metadata": {},
   "outputs": [
    {
     "name": "stdout",
     "output_type": "stream",
     "text": [
      "15\n"
     ]
    }
   ],
   "source": [
    "a = 1\n",
    "sum = 0 \n",
    "while a <= 5:\n",
    "    sum = sum + a\n",
    "\n",
    "    a += 1\n",
    "print(sum)     \n"
   ]
  },
  {
   "cell_type": "code",
   "execution_count": 3,
   "metadata": {},
   "outputs": [
    {
     "name": "stdout",
     "output_type": "stream",
     "text": [
      "144\n"
     ]
    }
   ],
   "source": [
    "sum = 0\n",
    "i = 11\n",
    "while i <= 25:\n",
    "    if(i % 2 == 1):\n",
    "        sum = sum + i\n",
    "    i += 1 \n",
    "print(sum)       "
   ]
  },
  {
   "cell_type": "code",
   "execution_count": 4,
   "metadata": {},
   "outputs": [
    {
     "name": "stdout",
     "output_type": "stream",
     "text": [
      "720\n"
     ]
    }
   ],
   "source": [
    "p = 1\n",
    "i = 6 \n",
    "while i >= 1:\n",
    "    p = p * i\n",
    "    i -= 1\n",
    "print(p)    \n",
    " "
   ]
  },
  {
   "cell_type": "code",
   "execution_count": 5,
   "metadata": {},
   "outputs": [
    {
     "name": "stdout",
     "output_type": "stream",
     "text": [
      "162\n"
     ]
    }
   ],
   "source": [
    "p = 1\n",
    "i =1 \n",
    "while i<= 10 :\n",
    "    if i % 3== 0:\n",
    "        p= p*i \n",
    "    i += 1\n",
    "print(p)         \n"
   ]
  },
  {
   "cell_type": "code",
   "execution_count": 6,
   "metadata": {},
   "outputs": [
    {
     "name": "stdout",
     "output_type": "stream",
     "text": [
      "4\n"
     ]
    }
   ],
   "source": [
    "i =1\n",
    "count = 0\n",
    "while i <=16:\n",
    "    if i % 4 == 0:\n",
    "        count += 1\n",
    "    i +=1\n",
    "print(count)        \n"
   ]
  },
  {
   "cell_type": "code",
   "execution_count": 7,
   "metadata": {},
   "outputs": [
    {
     "name": "stdout",
     "output_type": "stream",
     "text": [
      "1\n"
     ]
    }
   ],
   "source": [
    "count = 0 \n",
    "i =  1\n",
    "while i <= 15:\n",
    "    if (i % 3 == 0 and i % 5 == 0):\n",
    "        count += 1\n",
    "    i+=1\n",
    "print(count)        \n",
    "\n"
   ]
  },
  {
   "cell_type": "code",
   "execution_count": 10,
   "metadata": {},
   "outputs": [
    {
     "name": "stdout",
     "output_type": "stream",
     "text": [
      "1\n",
      "2\n",
      "3\n",
      "6\n"
     ]
    }
   ],
   "source": [
    "i = 1 \n",
    "n =  6\n",
    "while i <= 10 and n <=10:\n",
    "    if n % i == 0:\n",
    "        print(i)\n",
    "    i +=1    "
   ]
  },
  {
   "cell_type": "markdown",
   "metadata": {},
   "source": [
    "<<<<<<<<<<<<<<<<<<<<<<<<<<\n",
    "       ASSIGMNENT:\n",
    ">>>>>>>>>>>>>>>>>>>>>>>>>>"
   ]
  },
  {
   "cell_type": "code",
   "execution_count": 12,
   "metadata": {},
   "outputs": [
    {
     "name": "stdout",
     "output_type": "stream",
     "text": [
      "4\n"
     ]
    }
   ],
   "source": [
    "n = int(input())\n",
    "i = 1\n",
    "count = 0\n",
    "while i <=n:\n",
    "    if n % i == 0:\n",
    "        count += 1\n",
    "    i += 1\n",
    "print(count)          \n"
   ]
  },
  {
   "cell_type": "code",
   "execution_count": 13,
   "metadata": {},
   "outputs": [
    {
     "name": "stdout",
     "output_type": "stream",
     "text": [
      "12\n"
     ]
    }
   ],
   "source": [
    "n = int(input())\n",
    "i = 1\n",
    "sum = 0\n",
    "while i <=n:\n",
    "    if n % i == 0:\n",
    "        sum =  sum + i\n",
    "    i += 1\n",
    "print(sum)          \n"
   ]
  },
  {
   "cell_type": "code",
   "execution_count": 2,
   "metadata": {},
   "outputs": [
    {
     "name": "stdout",
     "output_type": "stream",
     "text": [
      "15\n",
      "odd\n"
     ]
    }
   ],
   "source": [
    "sum = 0\n",
    "a  =1\n",
    "while a <= 5:\n",
    "    sum = sum + a\n",
    "    a +=1\n",
    "print(sum)\n",
    "if sum % 2 == 0:\n",
    "        print(\"even\")\n",
    "else:\n",
    "        print(\"odd\") \n",
    "\n",
    "\n"
   ]
  },
  {
   "cell_type": "code",
   "execution_count": 3,
   "metadata": {},
   "outputs": [
    {
     "name": "stdout",
     "output_type": "stream",
     "text": [
      "24\n",
      "divisible\n"
     ]
    }
   ],
   "source": [
    "p =1 \n",
    "a = 4 \n",
    "while a >= 1:\n",
    "    p = p * a\n",
    "    a -= 1\n",
    "print(p) \n",
    "if p % 3 == 0:\n",
    "    print(\"divisible\") \n",
    "else:\n",
    "    print(\"noooooooo\")      "
   ]
  },
  {
   "cell_type": "code",
   "execution_count": 4,
   "metadata": {},
   "outputs": [
    {
     "name": "stdout",
     "output_type": "stream",
     "text": [
      "10\n"
     ]
    }
   ],
   "source": [
    "count = 0\n",
    "n = int(input())\n",
    "a = 1\n",
    "while a <=10:\n",
    "    if n % 2 ==0:\n",
    "        count += 1\n",
    "        \n",
    "\n",
    "    a += 1\n",
    "print(count)"
   ]
  }
 ],
 "metadata": {
  "kernelspec": {
   "display_name": "Python 3",
   "language": "python",
   "name": "python3"
  },
  "language_info": {
   "codemirror_mode": {
    "name": "ipython",
    "version": 3
   },
   "file_extension": ".py",
   "mimetype": "text/x-python",
   "name": "python",
   "nbconvert_exporter": "python",
   "pygments_lexer": "ipython3",
   "version": "3.12.1"
  }
 },
 "nbformat": 4,
 "nbformat_minor": 2
}
