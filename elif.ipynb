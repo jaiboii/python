{
 "cells": [
  {
   "cell_type": "code",
   "execution_count": 3,
   "metadata": {},
   "outputs": [
    {
     "name": "stdout",
     "output_type": "stream",
     "text": [
      " zero\n"
     ]
    }
   ],
   "source": [
    "n = int(input())\n",
    "if(n == 0):\n",
    "    print(\" zero\")\n",
    "elif(n%2==0):\n",
    "    print(\"even\")\n",
    "else:\n",
    "    print(\"odd\")        "
   ]
  },
  {
   "cell_type": "code",
   "execution_count": 7,
   "metadata": {},
   "outputs": [
    {
     "name": "stdout",
     "output_type": "stream",
     "text": [
      "FIZZBUZZ\n"
     ]
    }
   ],
   "source": [
    "n = int(input(\"enter the number\"))\n",
    "if n%3==0 and n%5 ==0 :\n",
    "    print(\"FIZZBUZZ\")\n",
    "elif n%3== 0:\n",
    "    print(\"FIZZ\")\n",
    "elif n %5 == 0:\n",
    "    print(\"BUZZ\")\n",
    "else:\n",
    "    print(n)            "
   ]
  },
  {
   "cell_type": "code",
   "execution_count": 8,
   "metadata": {},
   "outputs": [
    {
     "name": "stdout",
     "output_type": "stream",
     "text": [
      "NEGATIVE\n"
     ]
    }
   ],
   "source": [
    "n = int(input(\"enter the number\"))\n",
    "if n == 0:\n",
    "    print(\"ZEEERO\")\n",
    "\n",
    "elif n>0 :\n",
    "    print(\"POSITIVE\")\n",
    "\n",
    "else:\n",
    "    print(\"NEGATIVE\")        "
   ]
  },
  {
   "cell_type": "code",
   "execution_count": 10,
   "metadata": {},
   "outputs": [
    {
     "name": "stdout",
     "output_type": "stream",
     "text": [
      "UPPERCASE\n"
     ]
    }
   ],
   "source": [
    "ch = input(\"entr the char\")\n",
    "if ch >= 'a' and ch < 'z':\n",
    "    print(\"lowercase\")\n",
    "\n",
    "elif(ch>= 'A' and ch <= 'Z'):\n",
    "    print(\"UPPERCASE\")    "
   ]
  },
  {
   "cell_type": "code",
   "execution_count": 12,
   "metadata": {},
   "outputs": [
    {
     "name": "stdout",
     "output_type": "stream",
     "text": [
      "SYMBOLS\n"
     ]
    }
   ],
   "source": [
    "ch = input(\"entr the char\")\n",
    "if ch >= 'a' and ch <= 'z' or ch >= 'A' and ch <= 'Z':\n",
    "\n",
    "    print(\"ALPHABET\")\n",
    "\n",
    "elif(ch>= '0' and ch <= '9'):\n",
    "    print(\"DIGITS\")\n",
    "\n",
    "else:\n",
    "    print(\"SYMBOLS\")\n"
   ]
  },
  {
   "cell_type": "code",
   "execution_count": 14,
   "metadata": {},
   "outputs": [
    {
     "name": "stdout",
     "output_type": "stream",
     "text": [
      "DIGITS\n"
     ]
    }
   ],
   "source": [
    "ch = input(\"entr the char\")\n",
    "if ch >= 'a' and ch < 'z':\n",
    "    print(\"lowercase\")\n",
    "\n",
    "elif(ch>= 'A' and ch <= 'Z'):\n",
    "    print(\"UPPERCASE\")    \n",
    "\n",
    "elif(ch >= '0' and ch <= '9'):\n",
    "    print(\"DIGITS\")\n"
   ]
  }
 ],
 "metadata": {
  "kernelspec": {
   "display_name": "Python 3",
   "language": "python",
   "name": "python3"
  },
  "language_info": {
   "codemirror_mode": {
    "name": "ipython",
    "version": 3
   },
   "file_extension": ".py",
   "mimetype": "text/x-python",
   "name": "python",
   "nbconvert_exporter": "python",
   "pygments_lexer": "ipython3",
   "version": "3.12.1"
  }
 },
 "nbformat": 4,
 "nbformat_minor": 2
}
