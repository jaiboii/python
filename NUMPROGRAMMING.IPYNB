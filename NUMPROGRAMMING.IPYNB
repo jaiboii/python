{
 "cells": [
  {
   "cell_type": "code",
   "execution_count": 1,
   "metadata": {},
   "outputs": [
    {
     "name": "stdout",
     "output_type": "stream",
     "text": [
      "10\n"
     ]
    }
   ],
   "source": [
    "sum =0\n",
    "n= int(input())\n",
    "while n > 0:\n",
    "    d= n % 10\n",
    "    sum = sum + d\n",
    "    n= n // 10 \n",
    "print(sum)    "
   ]
  },
  {
   "cell_type": "code",
   "execution_count": 4,
   "metadata": {},
   "outputs": [
    {
     "name": "stdout",
     "output_type": "stream",
     "text": [
      "25\n"
     ]
    }
   ],
   "source": [
    "p =1\n",
    "n= int(input())\n",
    "while n > 0:\n",
    "    d= n % 10\n",
    "    p = p*d\n",
    "    n= n // 10 \n",
    "print(p)    "
   ]
  },
  {
   "cell_type": "code",
   "execution_count": 10,
   "metadata": {},
   "outputs": [
    {
     "name": "stdout",
     "output_type": "stream",
     "text": [
      "1\n",
      "3\n",
      "5\n",
      "7\n",
      "9\n"
     ]
    }
   ],
   "source": [
    "\n",
    "n= int(input())\n",
    "while n > 0:\n",
    "    d= n % 10\n",
    "    if d % 2 == 1:\n",
    "        print(d)\n",
    "    n= n // 10    "
   ]
  },
  {
   "cell_type": "code",
   "execution_count": 7,
   "metadata": {},
   "outputs": [
    {
     "name": "stdout",
     "output_type": "stream",
     "text": [
      "spy number\n"
     ]
    }
   ],
   "source": [
    "p =1\n",
    "s = 0\n",
    "n= int(input())\n",
    "while n > 0:\n",
    "    d= n % 10\n",
    "    p = p*d\n",
    "    s += d\n",
    "    n= n // 10 \n",
    "if s == p:\n",
    "    print(\"spy number\")\n",
    "else:\n",
    "    print(\"not a spy number\")      "
   ]
  },
  {
   "cell_type": "code",
   "execution_count": 12,
   "metadata": {},
   "outputs": [
    {
     "name": "stdout",
     "output_type": "stream",
     "text": [
      "3\n"
     ]
    }
   ],
   "source": [
    "count = 0\n",
    "n= int(input())\n",
    "while n > 0:\n",
    "    d= n % 10\n",
    "    count +=1\n",
    "    n= n // 10 \n",
    "print(count)    "
   ]
  },
  {
   "cell_type": "code",
   "execution_count": 13,
   "metadata": {},
   "outputs": [
    {
     "name": "stdout",
     "output_type": "stream",
     "text": [
      "6\n"
     ]
    }
   ],
   "source": [
    "n= int(input())\n",
    "sum = 0\n",
    "while n  >0:\n",
    "    d = n% 10\n",
    "    if d%2==0:\n",
    "        sum +=d\n",
    "    n = n //10 \n",
    "print(sum)       "
   ]
  },
  {
   "cell_type": "code",
   "execution_count": 18,
   "metadata": {},
   "outputs": [
    {
     "name": "stdout",
     "output_type": "stream",
     "text": [
      "17\n",
      "NOT Harshal number\n"
     ]
    }
   ],
   "source": [
    "n= int(input())\n",
    "OG = n\n",
    "sum = 0\n",
    "while n>0:\n",
    "    d = n% 10\n",
    "    sum +=d\n",
    "    n = n //10 \n",
    "print(sum) \n",
    "if OG % sum == 0:\n",
    "    print(\"Harshal number\")\n",
    "else:\n",
    "    print(\"NOT Harshal number\")          "
   ]
  },
  {
   "cell_type": "code",
   "execution_count": 28,
   "metadata": {},
   "outputs": [
    {
     "name": "stdout",
     "output_type": "stream",
     "text": [
      "9 4\n"
     ]
    }
   ],
   "source": [
    "\n",
    "n= int(input())\n",
    "l = [0] * 10\n",
    "while n > 0:\n",
    "    d= n % 10\n",
    "    \n",
    "    l[d] +=1\n",
    "    \n",
    "    n= n // 10\n",
    "mc = max(l)\n",
    "print(d,mc)  "
   ]
  },
  {
   "cell_type": "code",
   "execution_count": 29,
   "metadata": {},
   "outputs": [
    {
     "name": "stdout",
     "output_type": "stream",
     "text": [
      "16\n"
     ]
    }
   ],
   "source": [
    "n = int(input())\n",
    "ld = n % 10\n",
    "while n > 10 :\n",
    "    n =n // 10\n",
    "fd = n\n",
    "s = fd + ld\n",
    "print(s)    \n",
    "\n",
    "     "
   ]
  }
 ],
 "metadata": {
  "kernelspec": {
   "display_name": "Python 3",
   "language": "python",
   "name": "python3"
  },
  "language_info": {
   "codemirror_mode": {
    "name": "ipython",
    "version": 3
   },
   "file_extension": ".py",
   "mimetype": "text/x-python",
   "name": "python",
   "nbconvert_exporter": "python",
   "pygments_lexer": "ipython3",
   "version": "3.12.1"
  }
 },
 "nbformat": 4,
 "nbformat_minor": 2
}
