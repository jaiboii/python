{
 "cells": [
  {
   "cell_type": "code",
   "execution_count": 6,
   "metadata": {},
   "outputs": [
    {
     "name": "stdout",
     "output_type": "stream",
     "text": [
      "1\n"
     ]
    }
   ],
   "source": [
    "sum =0\n",
    "n= int(input())\n",
    "while n > 0:\n",
    "    d= n % 10\n",
    "    sum = sum + d\n",
    "    n= n // 10 \n",
    "print(sum)    "
   ]
  },
  {
   "cell_type": "code",
   "execution_count": 7,
   "metadata": {},
   "outputs": [],
   "source": [
    "p =1\n",
    "n= int(input())\n",
    "while n > 0:\n",
    "    d= n % 10\n",
    "    p = p*d\n",
    "    n= n // 10 \n",
    "print(p)    "
   ]
  },
  {
   "cell_type": "code",
   "execution_count": null,
   "metadata": {},
   "outputs": [
    {
     "name": "stdout",
     "output_type": "stream",
     "text": [
      "1\n",
      "3\n",
      "5\n",
      "7\n",
      "9\n"
     ]
    }
   ],
   "source": [
    "\n",
    "n= int(input())\n",
    "while n > 0:\n",
    "    d= n % 10\n",
    "    if d % 2 == 1:\n",
    "        print(d)\n",
    "    n= n // 10    "
   ]
  },
  {
   "cell_type": "code",
   "execution_count": null,
   "metadata": {},
   "outputs": [
    {
     "name": "stdout",
     "output_type": "stream",
     "text": [
      "spy number\n"
     ]
    }
   ],
   "source": [
    "p =1\n",
    "s = 0\n",
    "n= int(input())\n",
    "while n > 0:\n",
    "    d= n % 10\n",
    "    p = p*d\n",
    "    s += d\n",
    "    n= n // 10 \n",
    "if s == p:\n",
    "    print(\"spy number\")\n",
    "else:\n",
    "    print(\"not a spy number\")      "
   ]
  },
  {
   "cell_type": "code",
   "execution_count": null,
   "metadata": {},
   "outputs": [
    {
     "name": "stdout",
     "output_type": "stream",
     "text": [
      "3\n"
     ]
    }
   ],
   "source": [
    "count = 0\n",
    "n= int(input())\n",
    "while n > 0:\n",
    "    d= n % 10\n",
    "    count +=1\n",
    "    n= n // 10 \n",
    "print(count)    "
   ]
  },
  {
   "cell_type": "code",
   "execution_count": null,
   "metadata": {},
   "outputs": [
    {
     "name": "stdout",
     "output_type": "stream",
     "text": [
      "6\n"
     ]
    }
   ],
   "source": [
    "n= int(input())\n",
    "sum = 0\n",
    "while n  >0:\n",
    "    d = n% 10\n",
    "    if d%2==0:\n",
    "        sum +=d\n",
    "    n = n //10 \n",
    "print(sum)       "
   ]
  },
  {
   "cell_type": "code",
   "execution_count": null,
   "metadata": {},
   "outputs": [
    {
     "name": "stdout",
     "output_type": "stream",
     "text": [
      "17\n",
      "NOT Harshal number\n"
     ]
    }
   ],
   "source": [
    "n= int(input())\n",
    "OG = n\n",
    "sum = 0\n",
    "while n>0:\n",
    "    d = n% 10\n",
    "    sum +=d\n",
    "    n = n //10 \n",
    "print(sum) \n",
    "if OG % sum == 0:\n",
    "    print(\"Harshal number\")\n",
    "else:\n",
    "    print(\"NOT Harshal number\")          "
   ]
  },
  {
   "cell_type": "code",
   "execution_count": null,
   "metadata": {},
   "outputs": [
    {
     "name": "stdout",
     "output_type": "stream",
     "text": [
      "8 2\n"
     ]
    }
   ],
   "source": [
    "\n",
    "n= int(input())\n",
    "l = [0] * 10\n",
    "while n > 0:\n",
    "    d= n % 10\n",
    "    \n",
    "    l[d] +=1\n",
    "    \n",
    "    n= n // 10\n",
    "mc = max(l)\n",
    "print(d,mc)  "
   ]
  },
  {
   "cell_type": "code",
   "execution_count": null,
   "metadata": {},
   "outputs": [
    {
     "name": "stdout",
     "output_type": "stream",
     "text": [
      "16\n"
     ]
    }
   ],
   "source": [
    "n = int(input())\n",
    "ld = n % 10\n",
    "while n > 10 :\n",
    "    n =n // 10\n",
    "fd = n\n",
    "s = fd + ld\n",
    "print(s)    \n",
    "\n",
    "     "
   ]
  },
  {
   "cell_type": "markdown",
   "metadata": {},
   "source": [
    "TUESDAY 27 - 02 - 2024"
   ]
  },
  {
   "cell_type": "code",
   "execution_count": 8,
   "metadata": {},
   "outputs": [
    {
     "name": "stdout",
     "output_type": "stream",
     "text": [
      "1\n",
      "2\n",
      "1\n"
     ]
    }
   ],
   "source": [
    "n = int(input())\n",
    "c = 0\n",
    "while n >0:\n",
    "    d = n % 10\n",
    "    c = c + 1\n",
    "    n = n // 10\n",
    "    print(c)\n",
    "\n",
    "    while n > 0:\n",
    "        d = n % 10\n",
    "        print(d ** c)\n",
    "        n = n//10\n"
   ]
  },
  {
   "cell_type": "code",
   "execution_count": 2,
   "metadata": {},
   "outputs": [
    {
     "name": "stdout",
     "output_type": "stream",
     "text": [
      "Factorial of 4 : 24\n",
      "Factorial of 7 : 5040\n",
      "Factorial of 9 : 362880\n"
     ]
    }
   ],
   "source": [
    "n = int(input(\"Enter a number: \"))  \n",
    "num = n  \n",
    "while n > 0:\n",
    "    digit = n % 10  \n",
    "    fact = 1\n",
    "    i = 1\n",
    "    while i <= digit:\n",
    "        fact *= i  \n",
    "        i += 1\n",
    "    print(\"Factorial of\", digit, \":\", fact)\n",
    "    n //= 10\n"
   ]
  },
  {
   "cell_type": "code",
   "execution_count": 9,
   "metadata": {},
   "outputs": [
    {
     "name": "stdout",
     "output_type": "stream",
     "text": [
      "fact of  4 : 24\n",
      "fact of  9 : 362880\n",
      "fact of  6 : 720\n",
      "sum of factorial :  363624\n"
     ]
    }
   ],
   "source": [
    "n = int(input())\n",
    "sum = 0\n",
    "while n > 0:\n",
    "    d = n%10\n",
    "    i = 1\n",
    "    f = 1\n",
    "    while i <= d:\n",
    "        f = f*i \n",
    "        i += 1\n",
    "    print(\"fact of \",d, \":\" , f)\n",
    "    sum =sum + f\n",
    "    n //= 10\n",
    "print(\"sum of factorial : \"  ,sum)    \n"
   ]
  },
  {
   "cell_type": "code",
   "execution_count": 11,
   "metadata": {},
   "outputs": [
    {
     "name": "stdout",
     "output_type": "stream",
     "text": [
      "9\n"
     ]
    }
   ],
   "source": [
    "n = int(input())\n",
    "num = n\n",
    "count = 0\n",
    "while n > 0:\n",
    "    d=n % 10\n",
    "    count +=1\n",
    "    n= n//10\n",
    "\n",
    "l = num % 10\n",
    "f = num // (10 ** (count-1))\n",
    "m= (num // (10 ** (count//2))) % 10\n",
    "\n",
    "sum = l + f + m\n",
    "print(sum)"
   ]
  },
  {
   "cell_type": "code",
   "execution_count": 22,
   "metadata": {},
   "outputs": [
    {
     "name": "stdout",
     "output_type": "stream",
     "text": [
      "145\n",
      "strong number\n"
     ]
    }
   ],
   "source": [
    "n = int(input())\n",
    "num= n\n",
    "sum = 0\n",
    "while n  >0:\n",
    "    d = n % 10\n",
    "    fact = 1\n",
    "    i = 1\n",
    "    while i <= d:\n",
    "        fact = fact * i\n",
    "        i += 1\n",
    "    sum = sum + fact\n",
    "\n",
    "    n = n// 10 \n",
    "print(sum)    \n",
    "if sum == num :\n",
    "    print(\"strong number\")\n",
    "else:\n",
    "    print(\"not strong number\")    "
   ]
  }
 ],
 "metadata": {
  "kernelspec": {
   "display_name": "Python 3",
   "language": "python",
   "name": "python3"
  },
  "language_info": {
   "codemirror_mode": {
    "name": "ipython",
    "version": 3
   },
   "file_extension": ".py",
   "mimetype": "text/x-python",
   "name": "python",
   "nbconvert_exporter": "python",
   "pygments_lexer": "ipython3",
   "version": "3.12.1"
  }
 },
 "nbformat": 4,
 "nbformat_minor": 2
}
