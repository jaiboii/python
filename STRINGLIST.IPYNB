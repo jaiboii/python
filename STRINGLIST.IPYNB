{
 "cells": [
  {
   "cell_type": "code",
   "execution_count": 1,
   "metadata": {},
   "outputs": [
    {
     "name": "stdout",
     "output_type": "stream",
     "text": [
      "p\n",
      "y\n",
      "t\n",
      "h\n",
      "o\n",
      "n\n"
     ]
    }
   ],
   "source": [
    "st = \"python\"\n",
    "i = 0\n",
    "while i < len(st):\n",
    "    print(st[i])\n",
    "    i+=1\n"
   ]
  },
  {
   "cell_type": "code",
   "execution_count": 3,
   "metadata": {},
   "outputs": [
    {
     "name": "stdout",
     "output_type": "stream",
     "text": [
      "P\n",
      "T\n",
      "O\n"
     ]
    }
   ],
   "source": [
    "st=\"PyThOn\"\n",
    "i = 0\n",
    "while i < len(st):\n",
    "    ch = st[i]\n",
    "    if ch >= 'A' and ch <= 'Z':\n",
    "        print(ch)\n",
    "    i += 1\n"
   ]
  },
  {
   "cell_type": "code",
   "execution_count": 8,
   "metadata": {},
   "outputs": [
    {
     "name": "stdout",
     "output_type": "stream",
     "text": [
      "y\n",
      "h\n",
      "n\n",
      "i\n",
      "g\n"
     ]
    }
   ],
   "source": [
    "st=\"PyThOnnigga\"\n",
    "i = 0\n",
    "while i < len(st):\n",
    "    ch = st[i]\n",
    "    if (ch >= 'a' and ch <= 'z') and i%2==1:\n",
    "        print(ch)\n",
    "    i += 1\n"
   ]
  },
  {
   "cell_type": "code",
   "execution_count": 9,
   "metadata": {},
   "outputs": [
    {
     "name": "stdout",
     "output_type": "stream",
     "text": [
      "O\n",
      "i\n",
      "a\n"
     ]
    }
   ],
   "source": [
    "st=\"PyThOnnigga\"\n",
    "i = 0\n",
    "while i < len(st):\n",
    "    ch = st[i]\n",
    "    if ch in \"aeiouAEIOU\":\n",
    "        print(ch)\n",
    "    i += 1\n"
   ]
  },
  {
   "cell_type": "code",
   "execution_count": 21,
   "metadata": {},
   "outputs": [
    {
     "name": "stdout",
     "output_type": "stream",
     "text": [
      "P\n",
      "y\n",
      "T\n",
      "h\n",
      "n\n",
      "g\n"
     ]
    }
   ],
   "source": [
    "st = \"PyThnnigga\"\n",
    "i = 0\n",
    "while i < len(st):\n",
    "    ch = st[i]\n",
    "    v = 'aeiouAEIOU'\n",
    "    if (ch >= 'A' and ch <= 'Z') or (ch >= 'a' and ch <= 'z') and (i % 2 == 1) and ch not in v:\n",
    "        print(ch)\n",
    "    i += 1 \n"
   ]
  },
  {
   "cell_type": "code",
   "execution_count": 2,
   "metadata": {},
   "outputs": [
    {
     "name": "stdout",
     "output_type": "stream",
     "text": [
      "[1, 2, 34, 45, 6, 7]\n",
      "1\n",
      "2\n",
      "34\n",
      "45\n",
      "6\n",
      "7\n"
     ]
    }
   ],
   "source": [
    "l = [1,2,34,45,6,7]\n",
    "print(l)\n",
    "\n",
    "i =0 \n",
    "while i < len(l):\n",
    "    ch = l[i]\n",
    "    print(ch)\n",
    "    i +=1"
   ]
  },
  {
   "cell_type": "code",
   "execution_count": 5,
   "metadata": {},
   "outputs": [
    {
     "name": "stdout",
     "output_type": "stream",
     "text": [
      "1\n",
      "567\n",
      "765\n",
      "45\n",
      "7\n"
     ]
    }
   ],
   "source": [
    "l = [1,2,34,8,567,98,765,34,45,6,7]\n",
    "\n",
    "i =0 \n",
    "while i < len(l):\n",
    "    ch = l[i]\n",
    "    if ch % 2 == 1:\n",
    "        print(ch)\n",
    "    i +=1\n",
    "\n"
   ]
  },
  {
   "cell_type": "code",
   "execution_count": 6,
   "metadata": {},
   "outputs": [
    {
     "name": "stdout",
     "output_type": "stream",
     "text": [
      "1567\n"
     ]
    }
   ],
   "source": [
    "l = [1,2,34,8,567,98,765,34,45,6,7]\n",
    "\n",
    "i =0 \n",
    "sum = 0 \n",
    "while i < len(l):\n",
    "    ch = l[i]\n",
    "    sum = sum + ch\n",
    "        \n",
    "    i +=1\n",
    "print(sum)    \n",
    "\n"
   ]
  },
  {
   "cell_type": "code",
   "execution_count": 8,
   "metadata": {},
   "outputs": [
    {
     "name": "stdout",
     "output_type": "stream",
     "text": [
      "1485970509945600\n"
     ]
    }
   ],
   "source": [
    "l = [1,2,34,8,567,98,765,34,45,6,7]\n",
    "\n",
    "i =0 \n",
    "prod = 1\n",
    "while i < len(l):\n",
    "    ch = l[i]\n",
    "    prod = prod * ch\n",
    "        \n",
    "    i +=1\n",
    "print(prod)    \n",
    "\n"
   ]
  },
  {
   "cell_type": "code",
   "execution_count": 14,
   "metadata": {},
   "outputs": [
    {
     "name": "stdout",
     "output_type": "stream",
     "text": [
      "765\n"
     ]
    }
   ],
   "source": [
    "l = [1,2,34,8,567,98,765,34,45,6,7]\n",
    "\n",
    "i =0 \n",
    "GN = l[0]\n",
    "while i < len(l):\n",
    "    ch = l[i]\n",
    "    if ch > GN:\n",
    "        GN = ch\n",
    "        \n",
    "    i +=1\n",
    "print(GN)    \n",
    "\n"
   ]
  },
  {
   "cell_type": "code",
   "execution_count": 16,
   "metadata": {},
   "outputs": [
    {
     "name": "stdout",
     "output_type": "stream",
     "text": [
      "LARGEST NUMBER : 765\n",
      "SMALLEST NUMBER: 1\n"
     ]
    }
   ],
   "source": [
    "l = [1,2,34,8,567,98,765,34,45,6,7]\n",
    "\n",
    "i =0 \n",
    "GN = l[0]\n",
    "SN = l[0]\n",
    "while i < len(l):\n",
    "    ch = l[i]\n",
    "    if ch > GN:\n",
    "        GN = ch\n",
    "    if ch < SN:\n",
    "        SN = ch    \n",
    "        \n",
    "    i +=1\n",
    "print(\"LARGEST NUMBER :\",GN)    \n",
    "print(\"SMALLEST NUMBER:\",SN)\n"
   ]
  }
 ],
 "metadata": {
  "kernelspec": {
   "display_name": "Python 3",
   "language": "python",
   "name": "python3"
  },
  "language_info": {
   "codemirror_mode": {
    "name": "ipython",
    "version": 3
   },
   "file_extension": ".py",
   "mimetype": "text/x-python",
   "name": "python",
   "nbconvert_exporter": "python",
   "pygments_lexer": "ipython3",
   "version": "3.12.1"
  }
 },
 "nbformat": 4,
 "nbformat_minor": 2
}
