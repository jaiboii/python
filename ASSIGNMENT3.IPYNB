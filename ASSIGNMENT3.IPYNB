{
 "cells": [
  {
   "cell_type": "markdown",
   "metadata": {},
   "source": [
    "1.HOW TO REVERSE A NUMBER IN PYTHON \n"
   ]
  },
  {
   "cell_type": "code",
   "execution_count": 4,
   "metadata": {},
   "outputs": [
    {
     "name": "stdout",
     "output_type": "stream",
     "text": [
      "123456789\n"
     ]
    }
   ],
   "source": [
    "n = int(input())\n",
    "rs = str(n)\n",
    "print(rs[::-1])\n"
   ]
  },
  {
   "cell_type": "code",
   "execution_count": 5,
   "metadata": {},
   "outputs": [
    {
     "name": "stdout",
     "output_type": "stream",
     "text": [
      "54321\n"
     ]
    }
   ],
   "source": [
    "n = int(input())\n",
    "reverseno = 0\n",
    "while n > 0:\n",
    "    d= n % 10\n",
    "    reverseno = reverseno * 10 + d\n",
    "    n = n // 10\n",
    "print(reverseno)    \n",
    "\n"
   ]
  },
  {
   "cell_type": "markdown",
   "metadata": {},
   "source": [
    "2.WRITE A PROGRAM TO  CONVERT NUMBER TO WORD "
   ]
  },
  {
   "cell_type": "code",
   "execution_count": null,
   "metadata": {},
   "outputs": [],
   "source": []
  },
  {
   "cell_type": "markdown",
   "metadata": {},
   "source": [
    "WRITE A PROGRAM TO CHECk whether its automorphic number or not.( eg 76 in at the end of sqq root 76x76)"
   ]
  },
  {
   "cell_type": "code",
   "execution_count": 16,
   "metadata": {},
   "outputs": [
    {
     "name": "stdout",
     "output_type": "stream",
     "text": [
      "NOT AUTOMORPHIC NUMBER\n"
     ]
    }
   ],
   "source": [
    "n = int(input())\n",
    "sq = n ** 2\n",
    "an = True\n",
    "while n >0:\n",
    "    d= n % 10 \n",
    "    e = sq % 10\n",
    "    if d != e:\n",
    "            an = False\n",
    "            break\n",
    "    \n",
    "    \n",
    "\n",
    "    n = n // 10\n",
    "    sq = sq // 10\n",
    "if an:            \n",
    "            print(\"AUTOMORPHIC NUMBER\")\n",
    "else:\n",
    "          print(\"NOT AUTOMORPHIC NUMBER\")        "
   ]
  },
  {
   "cell_type": "markdown",
   "metadata": {},
   "source": [
    "write a program to print peterson number."
   ]
  },
  {
   "cell_type": "code",
   "execution_count": 3,
   "metadata": {},
   "outputs": [
    {
     "name": "stdout",
     "output_type": "stream",
     "text": [
      "PETERNRSON NUMBER \n"
     ]
    }
   ],
   "source": [
    "n = int(input())\n",
    "num = n\n",
    "sum = 0\n",
    "while n > 0:\n",
    "    d = n % 10\n",
    "    fact = 1\n",
    "    i = 1\n",
    "    while i <= d:\n",
    "        fact = fact * i\n",
    "        i += 1\n",
    "    n  = n //10\n",
    "sum = sum + fact  \n",
    "\n",
    "if  num == sum :\n",
    "    print(\"PETERNRSON NUMBER \")\n",
    "else:\n",
    "    print(\"not a peterson number\")    "
   ]
  },
  {
   "cell_type": "markdown",
   "metadata": {},
   "source": [
    "4. sunny number in python (n+1 is perf sq or not?)"
   ]
  },
  {
   "cell_type": "code",
   "execution_count": 1,
   "metadata": {},
   "outputs": [
    {
     "name": "stdout",
     "output_type": "stream",
     "text": [
      "sunny number\n"
     ]
    }
   ],
   "source": [
    "n = int(input())\n",
    "m = n+1\n",
    "root = m ** 0.5\n",
    "if root == int(root):\n",
    "    print(\"sunny number\")\n",
    "else:\n",
    "    print(\"not sunny number\")    "
   ]
  },
  {
   "cell_type": "markdown",
   "metadata": {},
   "source": [
    "5. Tech number in python.\n",
    "Note: A Tech number is a number that has an even number of digits and if the number is split into two equal halves(From the middle), then the square of the sum of these halves is equal to the number itself.\n",
    "\n"
   ]
  },
  {
   "cell_type": "code",
   "execution_count": 8,
   "metadata": {},
   "outputs": [
    {
     "name": "stdout",
     "output_type": "stream",
     "text": [
      "2\n",
      "TECH NUMBER\n"
     ]
    }
   ],
   "source": [
    "n = int(input())\n",
    "num= n\n",
    "count = 0\n",
    "\n",
    "while n > 0:\n",
    "    d  = n  % 10\n",
    "    count +=1 \n",
    "    n = n // 10\n",
    "print(count)\n",
    "if count % 2 != 0:\n",
    "    print( \" not a tech no\")\n",
    "else:\n",
    "    fh = num // 10**(count //2)\n",
    "    sh = num % 10*(count //2)\n",
    "\n",
    "\n",
    "sum = fh + sh \n",
    "if sum ** 2== num:\n",
    "    print(\"TECH NUMBER\")\n",
    "else:\n",
    "    print(\"not TECH NO\")         "
   ]
  },
  {
   "cell_type": "markdown",
   "metadata": {},
   "source": [
    "15. BUZZ NUMBER (A number is said to be Buzz Number if it ends with 7 OR is divisible by 7. \n",
    "The task is to check whether the given number is buzz number or not.\n",
    ")"
   ]
  },
  {
   "cell_type": "code",
   "execution_count": 3,
   "metadata": {},
   "outputs": [
    {
     "name": "stdout",
     "output_type": "stream",
     "text": [
      "BUZZ NUMBER\n"
     ]
    }
   ],
   "source": [
    "n = int(input())\n",
    "d = n % 10\n",
    "if d == 7 or n % 7 == 0:  \n",
    "     print(\"BUZZ NUMBER\")\n",
    "else:\n",
    "    print(\"not a BUZZ NUMBER\")\n"
   ]
  },
  {
   "cell_type": "markdown",
   "metadata": {},
   "source": [
    "9. NEON NUMBER\n",
    "(\"A neon number is a number where the sum of digits of square of the number is equal to the number. The task is to check and print neon numbers in a range.\")"
   ]
  },
  {
   "cell_type": "code",
   "execution_count": null,
   "metadata": {},
   "outputs": [],
   "source": [
    "n = int(input())\n",
    "num = n\n",
    "sum = 0\n",
    "sqn= n ** 2\n",
    "while sqn!= 0:\n",
    "    d = sqn % 10\n",
    "\n",
    "    \n",
    "        \n",
    "    \n",
    "    n  = n //10\n",
    "sum = \n",
    "\n",
    "if  num == sum :\n",
    "    print(\"NEON NUMBER\")\n",
    "else:\n",
    "    print(\"noT NEON number\")    "
   ]
  },
  {
   "cell_type": "markdown",
   "metadata": {},
   "source": [
    "10. SPY NUMBER\n",
    "{A particular number is known as a Spy number if the sum of its digits is exactly equal to the product of its digits.}\n",
    "eg . 1421"
   ]
  },
  {
   "cell_type": "code",
   "execution_count": 3,
   "metadata": {},
   "outputs": [
    {
     "name": "stdout",
     "output_type": "stream",
     "text": [
      "17\n",
      "72\n",
      "NOT A SPY NUMBER\n"
     ]
    }
   ],
   "source": [
    "n = int(input())\n",
    "sum = 0\n",
    "prod = 1\n",
    "while n!=0:\n",
    "    d= n%10\n",
    "    sum = sum + d\n",
    "    prod = prod * d\n",
    "\n",
    "    n = n//10\n",
    "print(sum)\n",
    "print(prod)\n",
    "if sum == prod:\n",
    "    print(\"SPY NUMBER\")\n",
    "else:\n",
    "    print(\"NOT A SPY NUMBER\")        "
   ]
  },
  {
   "cell_type": "markdown",
   "metadata": {},
   "source": [
    "7.FASCINATING NUMBER"
   ]
  },
  {
   "cell_type": "code",
   "execution_count": 12,
   "metadata": {},
   "outputs": [
    {
     "name": "stdout",
     "output_type": "stream",
     "text": [
      "fasinating number\n",
      "fasinating number\n",
      "fasinating number\n",
      "fasinating number\n",
      "fasinating number\n",
      "fasinating number\n",
      "fasinating number\n",
      "fasinating number\n",
      "fasinating number\n"
     ]
    }
   ],
   "source": [
    "n=int(input())\n",
    "a = 2*n   \n",
    "b = 3*n\n",
    "cc = str(n) + str (a) + str(b)\n",
    "if '0' in cc:\n",
    "    print(\"F\") \n",
    "if len(cc)>9:\n",
    "    print(\"F\")    \n",
    "for i in range(1,10):\n",
    "    if str(i) not in cc:\n",
    "\n",
    "        print(\"not fasinating number\")\n",
    "        break ;\n",
    "    else:\n",
    "         print(\"fasinating number\")   \n",
    "\n",
    "        "
   ]
  },
  {
   "cell_type": "markdown",
   "metadata": {},
   "source": [
    "8. KEITH NUMBER\n"
   ]
  },
  {
   "cell_type": "code",
   "execution_count": null,
   "metadata": {},
   "outputs": [],
   "source": [
    "n = int(input())\n",
    "n"
   ]
  },
  {
   "cell_type": "markdown",
   "metadata": {},
   "source": [
    "spenic number"
   ]
  },
  {
   "cell_type": "code",
   "execution_count": null,
   "metadata": {},
   "outputs": [],
   "source": [
    "n = int(input())\n",
    "\n",
    "\n"
   ]
  },
  {
   "cell_type": "markdown",
   "metadata": {},
   "source": []
  },
  {
   "cell_type": "markdown",
   "metadata": {},
   "source": [
    "ATM PROGRAM "
   ]
  },
  {
   "cell_type": "code",
   "execution_count": 9,
   "metadata": {},
   "outputs": [
    {
     "name": "stdout",
     "output_type": "stream",
     "text": [
      "1.check balance      \n",
      "         2.deposit \n",
      "         3.withdraw\n",
      "         4.quit  \n",
      "enter valid input \n"
     ]
    }
   ],
   "source": [
    "print(\"\"\"1.check balance      \n",
    "         2.deposit \n",
    "         3.withdraw\n",
    "         4.quit  \"\"\")\n",
    "balance = 100000\n",
    "no = int(input())\n",
    "if no == 1:\n",
    "    print(\"available balance:\",balance)\n",
    "elif no ==2:\n",
    "    d = int(input(\"enter the cash \")) \n",
    "    deposit = d + balance \n",
    "    print(\"total balance:\",deposit)\n",
    "elif no == 3:\n",
    "    w = int(input(\"enter the amount you want\"))\n",
    "    remainingbalance = balance - w\n",
    "    print(\"total balance:\",remainingbalance) \n",
    "    if w > balance:\n",
    "        print(\"paisA NAI HAI GANDU JAKE KAAM KAR\")\n",
    "elif no == 4:\n",
    "    print(\"THANKS FOR VISITING ATM\")\n",
    "else:\n",
    "    print(\"enter valid input \")    "
   ]
  },
  {
   "cell_type": "markdown",
   "metadata": {},
   "source": [
    "**happy number**"
   ]
  },
  {
   "cell_type": "code",
   "execution_count": 7,
   "metadata": {},
   "outputs": [
    {
     "name": "stdout",
     "output_type": "stream",
     "text": [
      "Not a happy number\n"
     ]
    }
   ],
   "source": [
    "n = int(input())\n",
    "\n",
    "sum_of_digits = 0  \n",
    "while n > 0:\n",
    "    digit = n % 10  \n",
    "    sum_of_digits += digit ** 2  \n",
    "    n //= 10  \n",
    "\n",
    "n = sum_of_digits\n",
    "\n",
    "if n == 1:\n",
    "    print(\"Happy number\")\n",
    "else:\n",
    "    print(\"Not a happy number\")\n"
   ]
  },
  {
   "cell_type": "markdown",
   "metadata": {},
   "source": [
    "**autobiographical number**"
   ]
  },
  {
   "cell_type": "code",
   "execution_count": null,
   "metadata": {},
   "outputs": [],
   "source": []
  },
  {
   "cell_type": "markdown",
   "metadata": {},
   "source": [
    "**25.nth prime number**"
   ]
  },
  {
   "cell_type": "code",
   "execution_count": 5,
   "metadata": {},
   "outputs": [
    {
     "name": "stdout",
     "output_type": "stream",
     "text": [
      "The 8th prime number is: 19\n"
     ]
    }
   ],
   "source": [
    "def is_prime(num):\n",
    "    if num <= 1:\n",
    "        return False\n",
    "    for i in range(2, int(num**0.5) + 1):\n",
    "        if num % i == 0:\n",
    "            return False\n",
    "    return True\n",
    "\n",
    "def nth_prime(n):\n",
    "    count = 0\n",
    "    num = 2\n",
    "    while True:\n",
    "        if is_prime(num):\n",
    "            count += 1\n",
    "            if count == n:\n",
    "                return num\n",
    "        num += 1\n",
    "n = int(input(\"Enter the value of n to find the nth prime number: \"))\n",
    "result = nth_prime(n)\n",
    "print(f\"The {n}th prime number is: {result}\")\n"
   ]
  },
  {
   "cell_type": "markdown",
   "metadata": {},
   "source": [
    "**24.xylem an phelom number**\n",
    "eg.34326\n",
    "3+6 = 9 and 4+3+2=9"
   ]
  },
  {
   "cell_type": "code",
   "execution_count": 23,
   "metadata": {},
   "outputs": [
    {
     "name": "stdout",
     "output_type": "stream",
     "text": [
      "132\n",
      "phylom number\n"
     ]
    }
   ],
   "source": [
    "n = int(input())\n",
    "print(n)\n",
    "num = str(n)\n",
    "sum1 = int(num[0])+ int(num[-1]) \n",
    "sum2= 0\n",
    "for i in range(1,len(num)-2):\n",
    "    sum2 += int(num[i])\n",
    "if sum1 == sum2:\n",
    "    print(\"xylem number\")\n",
    "else:\n",
    "    print(\"phylom number\")        \n"
   ]
  },
  {
   "cell_type": "code",
   "execution_count": 22,
   "metadata": {},
   "outputs": [
    {
     "name": "stdout",
     "output_type": "stream",
     "text": [
      "132\n",
      "xylem number\n"
     ]
    }
   ],
   "source": [
    "n = int(input())\n",
    "print(n)\n",
    "\n",
    "num = str(n)\n",
    "sum1 = int(num[0]) + int(num[-1])\n",
    "sum2 = 0\n",
    "\n",
    "for i in range(1, len(num) - 1):\n",
    "    sum2 += int(num[i])\n",
    "\n",
    "if sum1 == sum2:\n",
    "    print(\"xylem number\")\n",
    "else:\n",
    "    print(\"phylom number\")\n"
   ]
  }
 ],
 "metadata": {
  "kernelspec": {
   "display_name": "Python 3",
   "language": "python",
   "name": "python3"
  },
  "language_info": {
   "codemirror_mode": {
    "name": "ipython",
    "version": 3
   },
   "file_extension": ".py",
   "mimetype": "text/x-python",
   "name": "python",
   "nbconvert_exporter": "python",
   "pygments_lexer": "ipython3",
   "version": "3.12.1"
  }
 },
 "nbformat": 4,
 "nbformat_minor": 2
}
