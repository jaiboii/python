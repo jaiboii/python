{
 "cells": [
  {
   "cell_type": "code",
   "execution_count": 2,
   "metadata": {},
   "outputs": [
    {
     "name": "stdout",
     "output_type": "stream",
     "text": [
      "hello\n",
      "jay\n",
      "sir\n",
      " :] \n",
      " ;)  \n",
      "better luck next time\n"
     ]
    }
   ],
   "source": [
    "n = 10\n",
    "if n > 5:\n",
    "    print(\"hello\")\n",
    "    print(\"jay\")\n",
    "    print(\"sir\")\n",
    "    print(\" :] \" )\n",
    "    print(\" ;)  \")\n",
    "print(\"better luck next time\")    "
   ]
  },
  {
   "cell_type": "code",
   "execution_count": 4,
   "metadata": {},
   "outputs": [
    {
     "name": "stdout",
     "output_type": "stream",
     "text": [
      "program ends\n"
     ]
    }
   ],
   "source": [
    "n = 31\n",
    "if n % 3 == 0 :\n",
    "    print(\"divisable\")\n",
    "    print(n)\n",
    "print(\"program ends\")\n"
   ]
  },
  {
   "cell_type": "code",
   "execution_count": 15,
   "metadata": {},
   "outputs": [
    {
     "name": "stdout",
     "output_type": "stream",
     "text": [
      "yes sir\n",
      "10 12\n",
      "progrram ends\n"
     ]
    }
   ],
   "source": [
    "n = 15\n",
    "if n%3 ==0 and n %5 == 0:\n",
    "    print(\"yes sir\")\n",
    "    print(n-5,n-3)\n",
    "\n",
    "print(\"progrram ends\")    \n"
   ]
  },
  {
   "cell_type": "code",
   "execution_count": 12,
   "metadata": {},
   "outputs": [
    {
     "name": "stdout",
     "output_type": "stream",
     "text": [
      "yes\n",
      "40\n",
      "program ends\n"
     ]
    }
   ],
   "source": [
    "n = 10\n",
    "if n >= 10 and n<=50:\n",
    "    print(\"yes\")\n",
    "    print(50 - n)\n",
    "print(\"program ends\")\n"
   ]
  },
  {
   "cell_type": "code",
   "execution_count": 22,
   "metadata": {},
   "outputs": [
    {
     "name": "stdout",
     "output_type": "stream",
     "text": [
      "9765625\n",
      "program ends\n"
     ]
    }
   ],
   "source": [
    "n= 5\n",
    "if 20 % n ==0:\n",
    "    print(n ** 2)\n",
    "\n",
    "print(\"program ends\")    "
   ]
  },
  {
   "cell_type": "code",
   "execution_count": 23,
   "metadata": {},
   "outputs": [
    {
     "name": "stdout",
     "output_type": "stream",
     "text": [
      "125\n",
      "program ends \n"
     ]
    }
   ],
   "source": [
    "n =5\n",
    "if 20 % n ==0  and 25 % n == 0 :\n",
    "    print(n**3)\n",
    "\n",
    "print(\"program ends \")    "
   ]
  },
  {
   "cell_type": "code",
   "execution_count": 25,
   "metadata": {},
   "outputs": [
    {
     "name": "stdout",
     "output_type": "stream",
     "text": [
      "65\n",
      "done\n"
     ]
    }
   ],
   "source": [
    "ch = 'A'\n",
    "if ch >='A' and ch <='Z':\n",
    "    print(ord(ch))\n",
    "print(\"done\")            "
   ]
  },
  {
   "cell_type": "code",
   "execution_count": 26,
   "metadata": {},
   "outputs": [
    {
     "name": "stdout",
     "output_type": "stream",
     "text": [
      "100\n"
     ]
    }
   ],
   "source": [
    "ch = 'd'\n",
    "if ch >= 'a' and ch <= 'z' and ord(ch)%2 == 0 :\n",
    "    print(ord(ch))"
   ]
  },
  {
   "cell_type": "markdown",
   "metadata": {},
   "source": [
    "ASSIGNMENT:\n",
    "________________"
   ]
  },
  {
   "cell_type": "code",
   "execution_count": 29,
   "metadata": {},
   "outputs": [
    {
     "name": "stdout",
     "output_type": "stream",
     "text": [
      "hello good morning jay sir\n"
     ]
    }
   ],
   "source": [
    "n= 5\n",
    "if n >2:\n",
    "    print(\"hello good morning jay sir\")"
   ]
  },
  {
   "cell_type": "code",
   "execution_count": 30,
   "metadata": {},
   "outputs": [
    {
     "name": "stdout",
     "output_type": "stream",
     "text": [
      "60\n",
      "20\n",
      "0\n",
      "800\n",
      "2.0\n",
      "2\n",
      "109951162777600000000000000000000\n"
     ]
    }
   ],
   "source": [
    "n =40\n",
    "\n",
    "if n >= 30 and n <= 40 : \n",
    "    print( n + 20)\n",
    "    print( n - 20)\n",
    "    print( n % 20)\n",
    "    print( n * 20)\n",
    "    print( n / 20)\n",
    "    print( n // 20)\n",
    "    print( n  ** 20)\n",
    "\n",
    "\n",
    "\n",
    "\n"
   ]
  },
  {
   "cell_type": "code",
   "execution_count": 32,
   "metadata": {},
   "outputs": [
    {
     "name": "stdout",
     "output_type": "stream",
     "text": [
      "50\n"
     ]
    }
   ],
   "source": [
    "n = 30\n",
    "if n % 3 == 0:\n",
    "    sum = (n+20)\n",
    "    \n",
    "print(sum)    "
   ]
  },
  {
   "cell_type": "code",
   "execution_count": 35,
   "metadata": {},
   "outputs": [
    {
     "name": "stdout",
     "output_type": "stream",
     "text": [
      "444\n",
      "222\n"
     ]
    }
   ],
   "source": [
    "n = 222\n",
    "if n % 2 == 0  and n >  20:\n",
    "    print( n * 2) \n",
    "\n",
    "\n",
    "print(n)    "
   ]
  },
  {
   "cell_type": "code",
   "execution_count": 36,
   "metadata": {},
   "outputs": [
    {
     "name": "stdout",
     "output_type": "stream",
     "text": [
      "97\n"
     ]
    }
   ],
   "source": [
    "ch  = 'a'\n",
    "if ch >= 'A' and ch<='Z' or ch>= ' a' and ch <= 'z':\n",
    "    print(ord(ch))"
   ]
  },
  {
   "cell_type": "code",
   "execution_count": 37,
   "metadata": {},
   "outputs": [
    {
     "name": "stdout",
     "output_type": "stream",
     "text": [
      "A\n"
     ]
    }
   ],
   "source": [
    "ch = 'a'\n",
    "if ch >= 'a' and ch <='z':\n",
    "    print(ch.upper())\n",
    "\n",
    "\n",
    "    "
   ]
  },
  {
   "cell_type": "code",
   "execution_count": 38,
   "metadata": {},
   "outputs": [
    {
     "name": "stdout",
     "output_type": "stream",
     "text": [
      "you can vote\n"
     ]
    }
   ],
   "source": [
    "age = 22\n",
    "if age > 18:\n",
    "    print(\"you can vote\")\n",
    "\n",
    "\n",
    "    "
   ]
  },
  {
   "cell_type": "code",
   "execution_count": 40,
   "metadata": {},
   "outputs": [
    {
     "name": "stdout",
     "output_type": "stream",
     "text": [
      "bro,still dont get married ;) \n"
     ]
    }
   ],
   "source": [
    "girl = 18\n",
    "boy = 21\n",
    "if girl >= 18 and boy >= 21:\n",
    "    print(\"bro,still dont get married ;) \")"
   ]
  },
  {
   "cell_type": "markdown",
   "metadata": {},
   "source": [
    "doneeeeeeeeeeeeeeeeeeeeeeeeeeeeeeeeeeeeeeeeeeeeeeeee\n",
    "======================================================="
   ]
  }
 ],
 "metadata": {
  "kernelspec": {
   "display_name": "Python 3",
   "language": "python",
   "name": "python3"
  },
  "language_info": {
   "codemirror_mode": {
    "name": "ipython",
    "version": 3
   },
   "file_extension": ".py",
   "mimetype": "text/x-python",
   "name": "python",
   "nbconvert_exporter": "python",
   "pygments_lexer": "ipython3",
   "version": "3.12.1"
  }
 },
 "nbformat": 4,
 "nbformat_minor": 2
}
