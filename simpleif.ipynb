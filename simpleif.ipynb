{
 "cells": [
  {
   "cell_type": "code",
   "execution_count": 2,
   "metadata": {},
   "outputs": [
    {
     "name": "stdout",
     "output_type": "stream",
     "text": [
      "hello\n",
      "jay\n",
      "sir\n",
      " :] \n",
      " ;)  \n",
      "better luck next time\n"
     ]
    }
   ],
   "source": [
    "n = 10\n",
    "if n > 5:\n",
    "    print(\"hello\")\n",
    "    print(\"jay\")\n",
    "    print(\"sir\")\n",
    "    print(\" :] \" )\n",
    "    print(\" ;)  \")\n",
    "print(\"better luck next time\")    "
   ]
  },
  {
   "cell_type": "code",
   "execution_count": 4,
   "metadata": {},
   "outputs": [
    {
     "name": "stdout",
     "output_type": "stream",
     "text": [
      "program ends\n"
     ]
    }
   ],
   "source": [
    "n = 31\n",
    "if n % 3 == 0 :\n",
    "    print(\"divisable\")\n",
    "    print(n)\n",
    "print(\"program ends\")\n"
   ]
  },
  {
   "cell_type": "code",
   "execution_count": 15,
   "metadata": {},
   "outputs": [
    {
     "name": "stdout",
     "output_type": "stream",
     "text": [
      "yes sir\n",
      "10 12\n",
      "progrram ends\n"
     ]
    }
   ],
   "source": [
    "n = 15\n",
    "if n%3 ==0 and n %5 == 0:\n",
    "    print(\"yes sir\")\n",
    "    print(n-5,n-3)\n",
    "\n",
    "print(\"progrram ends\")    \n"
   ]
  },
  {
   "cell_type": "code",
   "execution_count": 12,
   "metadata": {},
   "outputs": [
    {
     "name": "stdout",
     "output_type": "stream",
     "text": [
      "yes\n",
      "40\n",
      "program ends\n"
     ]
    }
   ],
   "source": [
    "n = 10\n",
    "if n >= 10 and n<=50:\n",
    "    print(\"yes\")\n",
    "    print(50 - n)\n",
    "print(\"program ends\")\n"
   ]
  },
  {
   "cell_type": "code",
   "execution_count": 22,
   "metadata": {},
   "outputs": [
    {
     "name": "stdout",
     "output_type": "stream",
     "text": [
      "9765625\n",
      "program ends\n"
     ]
    }
   ],
   "source": [
    "n= 5\n",
    "if 20 % n ==0:\n",
    "    print(n ** 2)\n",
    "\n",
    "print(\"program ends\")    "
   ]
  },
  {
   "cell_type": "code",
   "execution_count": 23,
   "metadata": {},
   "outputs": [
    {
     "name": "stdout",
     "output_type": "stream",
     "text": [
      "125\n",
      "program ends \n"
     ]
    }
   ],
   "source": [
    "n =5\n",
    "if 20 % n ==0  and 25 % n == 0 :\n",
    "    print(n**3)\n",
    "\n",
    "print(\"program ends \")    "
   ]
  },
  {
   "cell_type": "code",
   "execution_count": 25,
   "metadata": {},
   "outputs": [
    {
     "name": "stdout",
     "output_type": "stream",
     "text": [
      "65\n",
      "done\n"
     ]
    }
   ],
   "source": [
    "ch = 'A'\n",
    "if ch >='A' and ch <='Z':\n",
    "    print(ord(ch))\n",
    "print(\"done\")            "
   ]
  },
  {
   "cell_type": "code",
   "execution_count": 26,
   "metadata": {},
   "outputs": [
    {
     "name": "stdout",
     "output_type": "stream",
     "text": [
      "100\n"
     ]
    }
   ],
   "source": [
    "ch = 'd'\n",
    "if ch >= 'a' and ch <= 'z' and ord(ch)%2 == 0 :\n",
    "    print(ord(ch))"
   ]
  }
 ],
 "metadata": {
  "kernelspec": {
   "display_name": "Python 3",
   "language": "python",
   "name": "python3"
  },
  "language_info": {
   "codemirror_mode": {
    "name": "ipython",
    "version": 3
   },
   "file_extension": ".py",
   "mimetype": "text/x-python",
   "name": "python",
   "nbconvert_exporter": "python",
   "pygments_lexer": "ipython3",
   "version": "3.12.1"
  }
 },
 "nbformat": 4,
 "nbformat_minor": 2
}
